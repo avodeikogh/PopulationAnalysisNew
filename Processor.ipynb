{
 "cells": [
  {
   "cell_type": "code",
   "execution_count": 1,
   "metadata": {},
   "outputs": [],
   "source": [
    "import os\n",
    "import re\n",
    "import cv2\n",
    "import math\n",
    "from PIL import Image\n",
    "import numpy as np\n",
    "from matplotlib.pyplot import imshow \n",
    "from matplotlib import pyplot as plt\n",
    "\n",
    "METERS_PER_PIXEL = 156543.03392 * math.cos(54 * math.pi / 180) / math.pow(2, 17)\n",
    "PRECISION = 1e-5\n",
    "MASK_COLOR = 255\n",
    "\n",
    "def get_tile_coord_from_filename(image_path):\n",
    "    result = re.findall(r'\\d+', os.path.basename(image_path))\n",
    "    return [int(val) for val in result]\n",
    "\n",
    "def get_mask_info(image_path):\n",
    "    image = cv2.imread(image_path, cv2.IMREAD_GRAYSCALE)\n",
    "    height, width = image.shape[0:2]\n",
    "    mask_pix_count = np.sum(image == MASK_COLOR)\n",
    "    mask_pix_percentage = mask_pix_count / (width * height)\n",
    "    return [mask_pix_count, mask_pix_percentage]\n",
    "\n",
    "density = {}\n",
    "    \n",
    "def process_image(image_path):\n",
    "    x, y = get_tile_coord_from_filename(image_path)\n",
    "    mask_pix_count, mask_pix_percentage = get_mask_info(image_path)\n",
    "    density[(x, y)] = (mask_pix_count, mask_pix_percentage)\n",
    "\n",
    "def process_dir(directory):\n",
    "    for root, dirs, files in os.walk(directory):\n",
    "        for file in files:\n",
    "            if file.endswith(\".png\"):\n",
    "                try:\n",
    "                    process_image(os.path.join(directory, file))\n",
    "                except:\n",
    "                    print(os.path.join(directory, file))\n",
    "\n"
   ]
  },
  {
   "cell_type": "code",
   "execution_count": 2,
   "metadata": {},
   "outputs": [],
   "source": [
    "def get_min_coord():\n",
    "    min_x = min([coord[0] for coord in density.keys()])\n",
    "    min_y = min([coord[1] for coord in density.keys()])\n",
    "    return (min_x, min_y)\n",
    "\n",
    "def get_max_coord():\n",
    "    max_x = max([coord[0] for coord in density.keys()])\n",
    "    max_y = max([coord[1] for coord in density.keys()])\n",
    "    return (max_x, max_y)\n",
    "\n",
    "def get_area():\n",
    "    area = 0.0\n",
    "    for x, y in density:\n",
    "        count, percentage = density[(x, y)]\n",
    "        area += count * METERS_PER_PIXEL\n",
    "    return area\n",
    "\n",
    "def get_total_area():\n",
    "    total_area = 0.0\n",
    "    for x, y in density:\n",
    "        total_area += 256 * 256 * METERS_PER_PIXEL\n",
    "    return total_area\n",
    "\n",
    "def get_image():\n",
    "    min_x, min_y = get_min_coord()\n",
    "    max_x, max_y = get_max_coord()\n",
    "    width = max_x + 1 - min_x\n",
    "    height = max_y + 1 - min_y\n",
    "    result_info = [[0.0 for i in range(height)] for j in range(width)]\n",
    "    for x, y in density:\n",
    "        count, percentage = density[(x, y)]\n",
    "        result_info[x - min_x][y - min_y] = percentage\n",
    "    min_percentage = np.min(result_info)\n",
    "    max_percentage = np.max(result_info)\n",
    "    image_data = []\n",
    "    for lst in result_info:\n",
    "        for value in lst:\n",
    "            color_val = 0\n",
    "            if (max_percentage - min_percentage) != 0.0:\n",
    "                color_val = (value - min_percentage) / (max_percentage - min_percentage) * 255\n",
    "            image_data.append(int(color_val))\n",
    "    result_image = Image.frombytes('L', (width, height), bytes(image_data), 'raw')\n",
    "    imshow(np.asarray(result_image))\n",
    "\n",
    "    "
   ]
  },
  {
   "cell_type": "code",
   "execution_count": 9,
   "metadata": {
    "scrolled": true
   },
   "outputs": [
    {
     "data": {
      "image/png": "[encoded data removed]",
      "text/plain": [
       "<Figure size 432x288 with 1 Axes>"
      ]
     },
     "metadata": {
      "needs_background": "light"
     },
     "output_type": "display_data"
    },
    {
     "data": {
      "image/png": "[encoded data removed]",
      "text/plain": [
       "<Figure size 432x288 with 1 Axes>"
      ]
     },
     "metadata": {
      "needs_background": "light"
     },
     "output_type": "display_data"
    }
   ],
   "source": [
    "import numpy as np\n",
    "import scipy.stats as stats\n",
    "import pylab\n",
    "\n",
    "areas = sorted([density[info][0] * METERS_PER_PIXEL for info in density])\n",
    "areas_without_zeros = sorted([density[info][0] * METERS_PER_PIXEL for info in density if density[info][0] > PRECISION])\n",
    "pdf = stats.norm.pdf(areas, np.mean(areas), np.std(areas))\n",
    "pylab.plot(areas, pdf,'-o')\n",
    "pylab.hist(areas, density=True) \n",
    "pylab.show(areas, pdf)\n",
    "pdf = stats.norm.pdf(areas_without_zeros, np.mean(areas_without_zeros), np.std(areas_without_zeros))\n",
    "pylab.plot(areas_without_zeros, pdf,'-o')\n",
    "pylab.hist(areas_without_zeros, density=True) \n",
    "pylab.show(areas_without_zeros, pdf)"
   ]
  },
  {
   "cell_type": "code",
   "execution_count": 5,
   "metadata": {
    "scrolled": false
   },
   "outputs": [
    {
     "name": "stdout",
     "output_type": "stream",
     "text": [
      "Метров в пикселе: 0.7020087180122099 м/пикс\n",
      "Средняя площадь зданий на тайл: 670.8647567776541 м^2\n",
      "Средняя процента зданий на тайл: 0.014581847134493203%\n",
      "Медианная площадь зданий на тайл: 0.0 м^2\n",
      "Медианный процент зданий на тайл: 0.0%\n",
      "Максимальная площадь зданий на тайл: 27314.457209137076 м^2\n",
      "Максимальный процент зданий на тайл: 0.5937042236328125%\n",
      "Минимальный площадь зданий на тайл, не равный нулю: 2.1060261540366296 м^2\n",
      "Минимальный процент зданий на тайл, не равный нулю: 4.57763671875e-05%\n",
      "Площадь: 2837757.921169476 м^2\n",
      "Вся площадь: 194608947.34362233 м^2\n"
     ]
    },
    {
     "data": {
      "image/png": "[encoded data removed]",
      "text/plain": [
       "<Figure size 432x288 with 1 Axes>"
      ]
     },
     "metadata": {
      "needs_background": "light"
     },
     "output_type": "display_data"
    }
   ],
   "source": [
    "import statistics\n",
    "process_dir(\"/home/ave/BigData/out_2/\")\n",
    "print(\"Метров в пикселе: {} м/пикс\".format(METERS_PER_PIXEL))\n",
    "print(\"Средняя площадь зданий на тайл: {} м^2\".format(statistics.mean([density[info][0] * METERS_PER_PIXEL for info in density])))\n",
    "print(\"Средняя процента зданий на тайл: {}%\".format(statistics.mean([density[info][1] for info in density])))\n",
    "print(\"Медианная площадь зданий на тайл: {} м^2\".format(statistics.median([density[info][0] * METERS_PER_PIXEL for info in density])))\n",
    "print(\"Медианный процент зданий на тайл: {}%\".format(statistics.median([density[info][1] for info in density])))\n",
    "print(\"Максимальная площадь зданий на тайл: {} м^2\".format(max([density[info][0] * METERS_PER_PIXEL for info in density])))\n",
    "print(\"Максимальный процент зданий на тайл: {}%\".format(max([density[info][1] for info in density])))\n",
    "print(\"Минимальный площадь зданий на тайл, не равный нулю: {} м^2\".format(min([density[info][0] * METERS_PER_PIXEL for info in density if density[info][0] > PRECISION])))\n",
    "print(\"Минимальный процент зданий на тайл, не равный нулю: {}%\".format(min([density[info][1] for info in density if density[info][1] > PRECISION])))\n",
    "\n",
    "print(\"Площадь: {} м^2\".format(get_area()))\n",
    "print(\"Вся площадь: {} м^2\".format(get_total_area()))\n",
    "get_image()"
   ]
  },
  {
   "cell_type": "code",
   "execution_count": null,
   "metadata": {},
   "outputs": [],
   "source": []
  }
 ],
 "metadata": {
  "kernelspec": {
   "display_name": "Python 3",
   "language": "python",
   "name": "python3"
  },
  "language_info": {
   "codemirror_mode": {
    "name": "ipython",
    "version": 3
   },
   "file_extension": ".py",
   "mimetype": "text/x-python",
   "name": "python",
   "nbconvert_exporter": "python",
   "pygments_lexer": "ipython3",
   "version": "3.6.8"
  }
 },
 "nbformat": 4,
 "nbformat_minor": 2
}
